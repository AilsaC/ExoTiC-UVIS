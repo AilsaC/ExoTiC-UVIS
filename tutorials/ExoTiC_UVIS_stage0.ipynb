{
 "cells": [
  {
   "cell_type": "markdown",
   "metadata": {},
   "source": [
    "Welcome to ExoTiC-UVIS Stage 0! In this Stage, we will:\n",
    "\n",
    "1. Download data for a given program ID, target, and visit number.\n",
    "2. Automatically organize and make human-readable the downloaded products from MAST.\n",
    "3. Locate the source star in the direct image, for calibration.\n",
    "4. ``Quicklook'' the data to assess its quality and decide whether a HOPR is needed.\n",
    "\n",
    "To get started, run the next cell, which imports the packages we need and creates a directory for ExoTiC-UVIS to operate from. Then follow the next markdown cell for instructions on how to execute Stage 0."
   ]
  },
  {
   "cell_type": "code",
   "execution_count": null,
   "metadata": {},
   "outputs": [],
   "source": [
    "import os\n",
    "from exotic_uvis import run_pipeline\n",
    "\n",
    "config_directory = '/hustle_config'\n",
    "if not os.path.exists(config_directory):\n",
    "    os.makedirs(config_directory)"
   ]
  },
  {
   "cell_type": "markdown",
   "metadata": {},
   "source": [
    "THE STAGE 0 .HUSTLE FILE\n",
    "\n",
    "ExoTiC-UVIS operates using configuration files, designated with the .hustle file extension. Each .hustle file controls one Stage of ExoTiC-UVIS. .hustle files are more human-readable that raw code and they allow you to easily reproduce previous runs of ExoTiC-UVIS as well as rapidly sharing your reduction and analysis methods with your colleagues.\n",
    "\n",
    "Now we need to make our Stage 0 .hustle file. The next cell contains a template stage_0.hustle file which you can modify to run Stage 0 of ExoTiC-UVIS. We're going to modify it so that it downloads the HUSTLE program observations of the hot Jupiter WASP-127b. To make it do this, make the following changes to the .hustle file template:\n",
    "\n",
    "1. Define 'toplevel_dir' to be a local path with a recognizable name, like 'WASP-127b_analysis'.\n",
    "2. Set the verbose, show_plots, and save_plots variables to each be 0, 1, or 2. verbose controls how many printed statements the pipeline produces, letting you keep track of what the pipeline is doing and what step it is on. show_plots allows the pipeline to temporarily pause execution to show you an interactive plot. save_plots saves output .png or .gif files for plots and other graphics produced. 0 prints/shows/saves nothing, while 2 prints/shows/saves everything.\n",
    "3. Set do_download to True, since we are downloading files. If you have already been given data, such as from a collaborator through Box or Drive, you would set do_download to False and point ExoTiC-UVIS to your data folder with the filesfrom_dir variable.\n",
    "4. Set programID to the string '17183' and target name to the string 'WASP-127'.\n",
    "5. Set the extensions variable. If you want to download all available data, set this value to None. You really only need the _flt and _spt .fits files from MAST, so you can filter out all other files by setting this variable to the list ['_flt.fits','_spt.fits'] to only select these file extensions.\n",
    "6. Set do_organize to True. This variable allows you to sort files into useful directories and assigns more readable filenames to each file. Unless you have pre-downloaded data that has already been sorted (e.g. direct images separated from spectroscopic images), I would recommend always running this step.\n",
    "7. Set visit_number to the string '12', since WASP-127b was visit 12 in this program.\n",
    "8. Set do_locate to True and location to None. When do_locate is True, ExoTiC-UVIS will execute a step that requires your interaction. It will show you an interactive plot of the direct image. Use this interactive plot to locate the target star's x and y coordinates, getting as close to the centroid as you can. The target star is usually the brightest star in the frame and tends to be found near x = 970, y = 170. Once you close the plot, ExoTiC-UVIS will ask you to supply the x, y coordinates of the target star, and then will provide you with possible more precise locations of the source. Select the x, y coordinates closest to those you found while examining the interactive plot.\n",
    "9. Set do_quicklook to True and gif_dir to 'quicklook'. This prompts ExoTiC-UVIS to create a simple .gif showing you the data you downloaded, which can be helpful in determining whether the data needs to be re-taken.\n",
    "\n",
    " As you modify each variable, take a moment to read the comment to its right. These comments tell you what each variable does and what else you can do with them."
   ]
  },
  {
   "cell_type": "code",
   "execution_count": null,
   "metadata": {},
   "outputs": [],
   "source": [
    "hustle_stage_0_file = f\"\"\"\n",
    "# ExoTiC-UVIS config file for launching Stage 0: Data Handling\n",
    "\n",
    "# Setup for Stage 0\n",
    "toplevel_dir    './files'                                   # Directory where you want your files to be stored after Stage 0 has run. This is where /specimages, /directimages, /visitfiles, and /miscfiles will be stored.\n",
    "verbose         2                                           # Int from 0 to 2. 0 = print nothing. 1 = print some statements. 2 = print every action.\n",
    "show_plots      2                                           # Int from 0 to 2. 0 = show nothing. 1 = show some plots. 2 = show all plots.\n",
    "save_plots      2                                           # Int from 0 to 2. 0 = save nothing. 1 = save some plots. 2 = save all plots.\n",
    "\n",
    "# Step 1: Download files from MAST\n",
    "do_download     True                                        # Bool. Whether to perform this step.\n",
    "programID       '12345'                                     # ID of the observing program you want to query data from. On MAST, referred to as \"proposal_ID\".\n",
    "target_name     'PLANET-B'                                  # Name of the target object you want to query data from. On MAST, referred to as \"target_name\".\n",
    "extensions      ['_flt.fits','_spt.fits']                   # lst of str or None. File extensions you want to download. If None, take all file extensions. Otherwise, take only the files specified. _flt.fits, _spt.fits recommended as minimum working case.\n",
    "\n",
    "# Step 2: Organizing files\n",
    "do_organize     True                                        # Bool. Whether to perform this step.\n",
    "visit_number    '00'                                        # The visit number you want to operate on.\n",
    "filesfrom_dir   None                                        # None or str. If you downloaded data in Step 1, leave this as None. If you have pre-downloaded data, please place all of it in filesfrom_dir. Don't sort it into sub-folders; ExoTiC-UVIS won't be able to find them if they are inside sub-folders!\n",
    "\n",
    "# Step 3: Locating the target star\n",
    "do_locate       True                                        # Bool. Whether to perform this step.\n",
    "location        None                                        # None or tuple of float. Prior to running Stage 0, this will be None. After running Stage 0, a copy of this .hustle file will be made with this information included.\n",
    "\n",
    "# Step 4: Quality quicklook\n",
    "do_quicklook    True                                        # Bool. Whether to perform this step.\n",
    "gif_dir         './'                                        # str. Where to save the quicklook gif to, relative to the toplevel_dir.\n",
    "\n",
    "# ENDPARSE\n",
    "\"\"\"\n",
    "\n",
    "# Now we can\n",
    "with open('stage_0_input_config.ecf', 'w') as f:\n",
    "    f.write(hustle_stage_0_file)"
   ]
  },
  {
   "cell_type": "markdown",
   "metadata": {},
   "source": [
    "Now that our config file is ready, simply use the cell below to execute Stage 0 of the pipeline!"
   ]
  },
  {
   "cell_type": "code",
   "execution_count": null,
   "metadata": {},
   "outputs": [],
   "source": [
    "run_pipeline(config_files_dir=config_directory,\n",
    "             stages=(0,))"
   ]
  },
  {
   "cell_type": "markdown",
   "metadata": {},
   "source": [
    "Welcome back! I hope there were no problems with execution. Now let's check out the outputs!"
   ]
  }
 ],
 "metadata": {
  "language_info": {
   "name": "python"
  }
 },
 "nbformat": 4,
 "nbformat_minor": 2
}
